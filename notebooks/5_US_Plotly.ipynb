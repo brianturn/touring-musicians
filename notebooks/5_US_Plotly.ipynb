{
 "cells": [
  {
   "cell_type": "markdown",
   "metadata": {},
   "source": [
    "### Map U.S. tweets for the Icelandic band Sigur Ros"
   ]
  },
  {
   "cell_type": "code",
   "execution_count": 2,
   "metadata": {
    "collapsed": true
   },
   "outputs": [],
   "source": [
    "import pickle\n",
    "import numpy as np\n",
    "import plotly\n",
    "import pandas as pd\n",
    "import plotly.plotly as py"
   ]
  },
  {
   "cell_type": "code",
   "execution_count": 3,
   "metadata": {
    "collapsed": true
   },
   "outputs": [],
   "source": [
    "df = pd.read_csv('location_world_backup.csv')"
   ]
  },
  {
   "cell_type": "code",
   "execution_count": 4,
   "metadata": {
    "collapsed": true
   },
   "outputs": [],
   "source": [
    "plotly.tools.set_credentials_file(username='brianturn', api_key='YCuD2uwOkDlx7ib1Zud9')"
   ]
  },
  {
   "cell_type": "code",
   "execution_count": 5,
   "metadata": {
    "collapsed": false
   },
   "outputs": [],
   "source": [
    "df_us = df.loc[(df['country'] == 'United States') & (df['artist'] == 'Sigur Ros')]"
   ]
  },
  {
   "cell_type": "code",
   "execution_count": 6,
   "metadata": {
    "collapsed": false
   },
   "outputs": [
    {
     "data": {
      "text/html": [
       "<div>\n",
       "<style>\n",
       "    .dataframe thead tr:only-child th {\n",
       "        text-align: right;\n",
       "    }\n",
       "\n",
       "    .dataframe thead th {\n",
       "        text-align: left;\n",
       "    }\n",
       "\n",
       "    .dataframe tbody tr th {\n",
       "        vertical-align: top;\n",
       "    }\n",
       "</style>\n",
       "<table border=\"1\" class=\"dataframe\">\n",
       "  <thead>\n",
       "    <tr style=\"text-align: right;\">\n",
       "      <th></th>\n",
       "      <th>artist</th>\n",
       "      <th>latitude</th>\n",
       "      <th>longitude</th>\n",
       "      <th>city</th>\n",
       "      <th>state</th>\n",
       "      <th>country</th>\n",
       "      <th>tweets</th>\n",
       "    </tr>\n",
       "  </thead>\n",
       "  <tbody>\n",
       "    <tr>\n",
       "      <th>107</th>\n",
       "      <td>Sigur Ros</td>\n",
       "      <td>30.267162</td>\n",
       "      <td>-97.743096</td>\n",
       "      <td>Austin</td>\n",
       "      <td>Texas</td>\n",
       "      <td>United States</td>\n",
       "      <td>130</td>\n",
       "    </tr>\n",
       "    <tr>\n",
       "      <th>194</th>\n",
       "      <td>Sigur Ros</td>\n",
       "      <td>32.776530</td>\n",
       "      <td>-96.797406</td>\n",
       "      <td>Dallas</td>\n",
       "      <td>Texas</td>\n",
       "      <td>United States</td>\n",
       "      <td>80</td>\n",
       "    </tr>\n",
       "    <tr>\n",
       "      <th>233</th>\n",
       "      <td>Sigur Ros</td>\n",
       "      <td>41.877959</td>\n",
       "      <td>-87.629954</td>\n",
       "      <td>Chicago</td>\n",
       "      <td>Illinois</td>\n",
       "      <td>United States</td>\n",
       "      <td>70</td>\n",
       "    </tr>\n",
       "    <tr>\n",
       "      <th>270</th>\n",
       "      <td>Sigur Ros</td>\n",
       "      <td>39.961633</td>\n",
       "      <td>-82.998954</td>\n",
       "      <td>Columbus</td>\n",
       "      <td>Ohio</td>\n",
       "      <td>United States</td>\n",
       "      <td>61</td>\n",
       "    </tr>\n",
       "    <tr>\n",
       "      <th>308</th>\n",
       "      <td>Sigur Ros</td>\n",
       "      <td>38.626840</td>\n",
       "      <td>-90.199339</td>\n",
       "      <td>St. Louis</td>\n",
       "      <td>Missouri</td>\n",
       "      <td>United States</td>\n",
       "      <td>53</td>\n",
       "    </tr>\n",
       "    <tr>\n",
       "      <th>372</th>\n",
       "      <td>Sigur Ros</td>\n",
       "      <td>34.052147</td>\n",
       "      <td>-118.243757</td>\n",
       "      <td>Los Angeles</td>\n",
       "      <td>California</td>\n",
       "      <td>United States</td>\n",
       "      <td>44</td>\n",
       "    </tr>\n",
       "    <tr>\n",
       "      <th>417</th>\n",
       "      <td>Sigur Ros</td>\n",
       "      <td>40.712746</td>\n",
       "      <td>-74.005974</td>\n",
       "      <td>New York</td>\n",
       "      <td>New York</td>\n",
       "      <td>United States</td>\n",
       "      <td>39</td>\n",
       "    </tr>\n",
       "    <tr>\n",
       "      <th>456</th>\n",
       "      <td>Sigur Ros</td>\n",
       "      <td>31.967525</td>\n",
       "      <td>-99.901623</td>\n",
       "      <td>Winters</td>\n",
       "      <td>Texas</td>\n",
       "      <td>United States</td>\n",
       "      <td>36</td>\n",
       "    </tr>\n",
       "    <tr>\n",
       "      <th>663</th>\n",
       "      <td>Sigur Ros</td>\n",
       "      <td>44.320335</td>\n",
       "      <td>-85.586493</td>\n",
       "      <td>Boon</td>\n",
       "      <td>Michigan</td>\n",
       "      <td>United States</td>\n",
       "      <td>24</td>\n",
       "    </tr>\n",
       "    <tr>\n",
       "      <th>804</th>\n",
       "      <td>Sigur Ros</td>\n",
       "      <td>40.417422</td>\n",
       "      <td>-82.909703</td>\n",
       "      <td>Ashley</td>\n",
       "      <td>Ohio</td>\n",
       "      <td>United States</td>\n",
       "      <td>20</td>\n",
       "    </tr>\n",
       "  </tbody>\n",
       "</table>\n",
       "</div>"
      ],
      "text/plain": [
       "        artist   latitude   longitude         city       state        country  \\\n",
       "107  Sigur Ros  30.267162  -97.743096       Austin       Texas  United States   \n",
       "194  Sigur Ros  32.776530  -96.797406       Dallas       Texas  United States   \n",
       "233  Sigur Ros  41.877959  -87.629954      Chicago    Illinois  United States   \n",
       "270  Sigur Ros  39.961633  -82.998954     Columbus        Ohio  United States   \n",
       "308  Sigur Ros  38.626840  -90.199339    St. Louis    Missouri  United States   \n",
       "372  Sigur Ros  34.052147 -118.243757  Los Angeles  California  United States   \n",
       "417  Sigur Ros  40.712746  -74.005974     New York    New York  United States   \n",
       "456  Sigur Ros  31.967525  -99.901623      Winters       Texas  United States   \n",
       "663  Sigur Ros  44.320335  -85.586493         Boon    Michigan  United States   \n",
       "804  Sigur Ros  40.417422  -82.909703       Ashley        Ohio  United States   \n",
       "\n",
       "     tweets  \n",
       "107     130  \n",
       "194      80  \n",
       "233      70  \n",
       "270      61  \n",
       "308      53  \n",
       "372      44  \n",
       "417      39  \n",
       "456      36  \n",
       "663      24  \n",
       "804      20  "
      ]
     },
     "execution_count": 6,
     "metadata": {},
     "output_type": "execute_result"
    }
   ],
   "source": [
    "df_us.head(10)"
   ]
  },
  {
   "cell_type": "code",
   "execution_count": 7,
   "metadata": {
    "collapsed": false
   },
   "outputs": [
    {
     "name": "stderr",
     "output_type": "stream",
     "text": [
      "/Users/brianturner/anaconda/lib/python3.6/site-packages/ipykernel/__main__.py:1: SettingWithCopyWarning:\n",
      "\n",
      "\n",
      "A value is trying to be set on a copy of a slice from a DataFrame.\n",
      "Try using .loc[row_indexer,col_indexer] = value instead\n",
      "\n",
      "See the caveats in the documentation: http://pandas.pydata.org/pandas-docs/stable/indexing.html#indexing-view-versus-copy\n",
      "\n"
     ]
    },
    {
     "data": {
      "text/html": [
       "<iframe id=\"igraph\" scrolling=\"no\" style=\"border:none;\" seamless=\"seamless\" src=\"https://plot.ly/~brianturn/11.embed\" height=\"525px\" width=\"100%\"></iframe>"
      ],
      "text/plain": [
       "<plotly.tools.PlotlyDisplay object>"
      ]
     },
     "execution_count": 7,
     "metadata": {},
     "output_type": "execute_result"
    }
   ],
   "source": [
    "df_us['text'] = (df_us['artist']) + '<br>' + (df_us['tweets']).astype(str) + ' mentions'\n",
    "limits = [(0,3),(3,10),(10,20),(20,50),(50,4000)]\n",
    "colors = ['rgb(255,0,0)','rgb(0,0,255)','rgb(0,255,0)','rgb(128,0,255)','rgb(255,128,0)','rgb(240,214,85)']\n",
    "cities = []\n",
    "scale = .5\n",
    "\n",
    "for i in range(len(limits)):\n",
    "    lim = limits[i]\n",
    "    df_sub = df_us[lim[0]:lim[1]]\n",
    "    city = dict(\n",
    "        type = 'scattergeo',\n",
    "        locationmode = 'usa',\n",
    "        lon = df_sub['longitude'],\n",
    "        lat = df_sub['latitude'],\n",
    "        text = df_sub['text'],\n",
    "        marker = dict(\n",
    "            size = df_sub['tweets'] * 3,\n",
    "            color = colors[i],\n",
    "            line = dict(width=0.5, color='rgb(40,40,40)'),\n",
    "            sizemode = 'area'\n",
    "        ),\n",
    "        name = '{0} - {1}'.format(lim[0],lim[1]) )\n",
    "    cities.append(city)\n",
    "\n",
    "layout = dict(\n",
    "        title = 'Twitter Mentions for Sigur Ros<br>June, 2017',\n",
    "        showlegend = False,\n",
    "        geo = dict(\n",
    "            scope='usa',\n",
    "            projection=dict( type='albers usa' ),\n",
    "            font=dict(family='Helvetica', size=18, color='rgb(40,40,40)'),\n",
    "            showland = True,\n",
    "            showcoastlines = True,\n",
    "            landcolor = 'rgb(211,211,211)',\n",
    "            subunitwidth=1,\n",
    "            countrywidth= 1,\n",
    "            subunitcolor=\"rgb(0,0,0)\",\n",
    "            countrycolor=\"rgb(0,0,0)\"\n",
    "        ),\n",
    "    )\n",
    "\n",
    "fig = dict( data=cities, layout=layout )\n",
    "py.iplot( fig, validate=False, filename='d3-us-tweets' )"
   ]
  },
  {
   "cell_type": "code",
   "execution_count": null,
   "metadata": {
    "collapsed": true
   },
   "outputs": [],
   "source": []
  }
 ],
 "metadata": {
  "kernelspec": {
   "display_name": "Python 3",
   "language": "python",
   "name": "python3"
  },
  "language_info": {
   "codemirror_mode": {
    "name": "ipython",
    "version": 3
   },
   "file_extension": ".py",
   "mimetype": "text/x-python",
   "name": "python",
   "nbconvert_exporter": "python",
   "pygments_lexer": "ipython3",
   "version": "3.6.0"
  }
 },
 "nbformat": 4,
 "nbformat_minor": 2
}
