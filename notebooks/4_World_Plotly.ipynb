{
 "cells": [
  {
   "cell_type": "markdown",
   "metadata": {},
   "source": [
    "### Map all tweets using Plotly"
   ]
  },
  {
   "cell_type": "code",
   "execution_count": 2,
   "metadata": {
    "collapsed": true
   },
   "outputs": [],
   "source": [
    "import pickle\n",
    "import numpy as np\n",
    "import plotly\n",
    "import pandas as pd"
   ]
  },
  {
   "cell_type": "code",
   "execution_count": 3,
   "metadata": {
    "collapsed": true
   },
   "outputs": [],
   "source": [
    "df = pd.read_csv('location_world_backup.csv')"
   ]
  },
  {
   "cell_type": "code",
   "execution_count": 4,
   "metadata": {
    "collapsed": true
   },
   "outputs": [],
   "source": [
    "df_world = df"
   ]
  },
  {
   "cell_type": "code",
   "execution_count": 5,
   "metadata": {
    "collapsed": false
   },
   "outputs": [],
   "source": [
    "sorter = {'Adele': 0, 'Radiohead': 1,'Thom Yorke': 2, 'Sigur Ros': 3, 'Queens of the Stone Age': 4, 'Kingkrule': 5, 'Kay Tranada': 6, 'Rostam': 7, 'Ibeyi': 8}"
   ]
  },
  {
   "cell_type": "code",
   "execution_count": 6,
   "metadata": {
    "collapsed": false
   },
   "outputs": [],
   "source": [
    "df_world['rank'] = df_world['artist'].map(sorter)"
   ]
  },
  {
   "cell_type": "code",
   "execution_count": 7,
   "metadata": {
    "collapsed": false
   },
   "outputs": [],
   "source": [
    "df_world = df_world.sort_values(by='rank').reset_index(drop=True)"
   ]
  },
  {
   "cell_type": "code",
   "execution_count": 8,
   "metadata": {
    "collapsed": true
   },
   "outputs": [],
   "source": [
    "plotly.tools.set_credentials_file(username='brianturn', api_key='YCuD2uwOkDlx7ib1Zud9')"
   ]
  },
  {
   "cell_type": "code",
   "execution_count": 10,
   "metadata": {
    "collapsed": false
   },
   "outputs": [
    {
     "data": {
      "text/html": [
       "<iframe id=\"igraph\" scrolling=\"no\" style=\"border:none;\" seamless=\"seamless\" src=\"https://plot.ly/~brianturn/9.embed\" height=\"525px\" width=\"100%\"></iframe>"
      ],
      "text/plain": [
       "<plotly.tools.PlotlyDisplay object>"
      ]
     },
     "execution_count": 10,
     "metadata": {},
     "output_type": "execute_result"
    }
   ],
   "source": [
    "import plotly.plotly as py\n",
    "\n",
    "df_world['text'] = df_world['artist'] + '<br>' + (df_world['tweets']).astype(str) + ' mentions'\n",
    "limits = [(0,1237),(1237,2374),(2374,3176),(3176,3603),(3603,3973),(3973,4214)]\n",
    "colors = ['rgb(255,0,0)','rgb(0,0,255)','rgb(0,255,0)','rgb(128,0,255)','rgb(255,128,0)','rgb(255,255,0)']\n",
    "cities = []\n",
    "scale = 5\n",
    "\n",
    "for i in range(len(limits)):\n",
    "    lim = limits[i]\n",
    "    df_sub = df_world[lim[0]:lim[1]]\n",
    "    city = dict(\n",
    "        type = 'scattergeo',\n",
    "        locationmode = 'usa',\n",
    "        lon = df_sub['longitude'],\n",
    "        lat = df_sub['latitude'],\n",
    "        text = df_sub['text'],\n",
    "        marker = dict(\n",
    "            size = df_sub['tweets']/scale,\n",
    "            color = colors[i],\n",
    "            line = dict(width=0.5, color='rgb(40,40,40)'),\n",
    "            sizemode = 'area'\n",
    "        ),\n",
    "        name = '{0} - {1}'.format(lim[0],lim[1]) )\n",
    "    cities.append(city)\n",
    "\n",
    "layout = dict(\n",
    "        title = 'Twitter Mentions - Adele and Radiohead dominate<br>June, 2017',\n",
    "        showlegend = True,\n",
    "        geo = dict(\n",
    "            projection=dict( type='Albers USA' ),\n",
    "            font=dict(family='Helvetica', size=18, color='rgb(40,40,40)'),\n",
    "            showland = True,\n",
    "            showcoastlines = True,\n",
    "            landcolor = 'rgb(217, 217, 217)',\n",
    "            subunitwidth=.5,\n",
    "            countrywidth=.5,\n",
    "            subunitcolor=\"rgb(40,40,40)\",\n",
    "            countrycolor=\"rgb(255, 255, 255)\"\n",
    "        ),\n",
    "    )\n",
    "\n",
    "fig = dict( data=cities, layout=layout )\n",
    "py.iplot( fig, validate=False, filename='d3-world-tweets' )"
   ]
  },
  {
   "cell_type": "code",
   "execution_count": null,
   "metadata": {
    "collapsed": true
   },
   "outputs": [],
   "source": []
  }
 ],
 "metadata": {
  "kernelspec": {
   "display_name": "Python 3",
   "language": "python",
   "name": "python3"
  },
  "language_info": {
   "codemirror_mode": {
    "name": "ipython",
    "version": 3
   },
   "file_extension": ".py",
   "mimetype": "text/x-python",
   "name": "python",
   "nbconvert_exporter": "python",
   "pygments_lexer": "ipython3",
   "version": "3.6.0"
  }
 },
 "nbformat": 4,
 "nbformat_minor": 2
}
