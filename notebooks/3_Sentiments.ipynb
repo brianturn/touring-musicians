{
 "cells": [
  {
   "cell_type": "markdown",
   "metadata": {},
   "source": [
    "### Sentiment analysis using Vader: https://github.com/cjhutto/vaderSentiment"
   ]
  },
  {
   "cell_type": "code",
   "execution_count": 1,
   "metadata": {
    "collapsed": true
   },
   "outputs": [],
   "source": [
    "import pandas as pd\n",
    "import pickle\n",
    "import nltk\n",
    "\n",
    "# nltk_path = '/home/ubuntu/nltk_data'\n",
    "# nltk.data.path.insert(0, nltk_path)"
   ]
  },
  {
   "cell_type": "code",
   "execution_count": 2,
   "metadata": {
    "collapsed": true
   },
   "outputs": [],
   "source": [
    "with open('location_df.pkl', 'rb') as picklefile:\n",
    "    df_location_final = pickle.load(picklefile)"
   ]
  },
  {
   "cell_type": "code",
   "execution_count": 5,
   "metadata": {
    "collapsed": true
   },
   "outputs": [],
   "source": [
    "import vaderSentiment\n",
    "from vaderSentiment.vaderSentiment import SentimentIntensityAnalyzer\n",
    "\n",
    "analyser = SentimentIntensityAnalyzer()\n",
    "\n",
    "def print_sentiment_scores(tweet):\n",
    "    snt = analyser.polarity_scores(tweet)\n",
    "    return snt"
   ]
  },
  {
   "cell_type": "code",
   "execution_count": 6,
   "metadata": {
    "collapsed": true
   },
   "outputs": [],
   "source": [
    "df_location_final['sentiments'] = df_location_final.clean.apply(lambda x: print_sentiment_scores(x))"
   ]
  },
  {
   "cell_type": "code",
   "execution_count": 7,
   "metadata": {
    "collapsed": true
   },
   "outputs": [],
   "source": [
    "def get_sentiment(row,sent):\n",
    "    sentiment = row['sentiments'][sent]\n",
    "    return sentiment"
   ]
  },
  {
   "cell_type": "code",
   "execution_count": 8,
   "metadata": {
    "collapsed": false
   },
   "outputs": [],
   "source": [
    "sentiment_keys = ['compound','neg','neu','pos']\n",
    "for i in sentiment_keys:\n",
    "    df_location_final[i] = df_location_final.apply(lambda x: get_sentiment(x,i), axis=1)"
   ]
  },
  {
   "cell_type": "code",
   "execution_count": 9,
   "metadata": {
    "collapsed": false
   },
   "outputs": [
    {
     "data": {
      "text/html": [
       "<div>\n",
       "<style>\n",
       "    .dataframe thead tr:only-child th {\n",
       "        text-align: right;\n",
       "    }\n",
       "\n",
       "    .dataframe thead th {\n",
       "        text-align: left;\n",
       "    }\n",
       "\n",
       "    .dataframe tbody tr th {\n",
       "        vertical-align: top;\n",
       "    }\n",
       "</style>\n",
       "<table border=\"1\" class=\"dataframe\">\n",
       "  <thead>\n",
       "    <tr style=\"text-align: right;\">\n",
       "      <th></th>\n",
       "      <th>id</th>\n",
       "      <th>created_at</th>\n",
       "      <th>location</th>\n",
       "      <th>text</th>\n",
       "      <th>screen_name</th>\n",
       "      <th>retweet_count</th>\n",
       "      <th>favorite_count</th>\n",
       "      <th>followers_count</th>\n",
       "      <th>friends_count</th>\n",
       "      <th>hashtags_text</th>\n",
       "      <th>...</th>\n",
       "      <th>city</th>\n",
       "      <th>state</th>\n",
       "      <th>country</th>\n",
       "      <th>county</th>\n",
       "      <th>postal_state</th>\n",
       "      <th>sentiments</th>\n",
       "      <th>compound</th>\n",
       "      <th>neg</th>\n",
       "      <th>neu</th>\n",
       "      <th>pos</th>\n",
       "    </tr>\n",
       "  </thead>\n",
       "  <tbody>\n",
       "    <tr>\n",
       "      <th>1</th>\n",
       "      <td>873599554175860736</td>\n",
       "      <td>Sat Jun 10 17:55:39 +0000 2017</td>\n",
       "      <td>manaus brasil</td>\n",
       "      <td>RT @Adele: Because of it though... I'm treatin...</td>\n",
       "      <td>MirianR88152620</td>\n",
       "      <td>36982</td>\n",
       "      <td>0</td>\n",
       "      <td>2</td>\n",
       "      <td>11</td>\n",
       "      <td>[]</td>\n",
       "      <td>...</td>\n",
       "      <td>Manaus</td>\n",
       "      <td>Amazonas</td>\n",
       "      <td>Brazil</td>\n",
       "      <td>Manaus</td>\n",
       "      <td>AM</td>\n",
       "      <td>{'neg': 0.0, 'neu': 0.894, 'pos': 0.106, 'comp...</td>\n",
       "      <td>0.2263</td>\n",
       "      <td>0.000</td>\n",
       "      <td>0.894</td>\n",
       "      <td>0.106</td>\n",
       "    </tr>\n",
       "    <tr>\n",
       "      <th>2</th>\n",
       "      <td>873599531861950464</td>\n",
       "      <td>Sat Jun 10 17:55:33 +0000 2017</td>\n",
       "      <td>manaus brasil</td>\n",
       "      <td>RT @Adele: The piano mics fell on to the piano...</td>\n",
       "      <td>MirianR88152620</td>\n",
       "      <td>37033</td>\n",
       "      <td>0</td>\n",
       "      <td>2</td>\n",
       "      <td>11</td>\n",
       "      <td>[]</td>\n",
       "      <td>...</td>\n",
       "      <td>Manaus</td>\n",
       "      <td>Amazonas</td>\n",
       "      <td>Brazil</td>\n",
       "      <td>Manaus</td>\n",
       "      <td>AM</td>\n",
       "      <td>{'neg': 0.135, 'neu': 0.865, 'pos': 0.0, 'comp...</td>\n",
       "      <td>-0.5574</td>\n",
       "      <td>0.135</td>\n",
       "      <td>0.865</td>\n",
       "      <td>0.000</td>\n",
       "    </tr>\n",
       "    <tr>\n",
       "      <th>5</th>\n",
       "      <td>873330450462330880</td>\n",
       "      <td>Sat Jun 10 00:06:19 +0000 2017</td>\n",
       "      <td>miami fl</td>\n",
       "      <td>RT @Adele: HUGE song @tinietempah love it love...</td>\n",
       "      <td>CalvoRicky</td>\n",
       "      <td>2142</td>\n",
       "      <td>0</td>\n",
       "      <td>104596</td>\n",
       "      <td>71</td>\n",
       "      <td>[]</td>\n",
       "      <td>...</td>\n",
       "      <td>Miami</td>\n",
       "      <td>Florida</td>\n",
       "      <td>United States</td>\n",
       "      <td>Miami-Dade County</td>\n",
       "      <td>FL</td>\n",
       "      <td>{'neg': 0.0, 'neu': 0.25, 'pos': 0.75, 'compou...</td>\n",
       "      <td>0.9188</td>\n",
       "      <td>0.000</td>\n",
       "      <td>0.250</td>\n",
       "      <td>0.750</td>\n",
       "    </tr>\n",
       "  </tbody>\n",
       "</table>\n",
       "<p>3 rows × 29 columns</p>\n",
       "</div>"
      ],
      "text/plain": [
       "                   id                      created_at       location  \\\n",
       "1  873599554175860736  Sat Jun 10 17:55:39 +0000 2017  manaus brasil   \n",
       "2  873599531861950464  Sat Jun 10 17:55:33 +0000 2017  manaus brasil   \n",
       "5  873330450462330880  Sat Jun 10 00:06:19 +0000 2017       miami fl   \n",
       "\n",
       "                                                text      screen_name  \\\n",
       "1  RT @Adele: Because of it though... I'm treatin...  MirianR88152620   \n",
       "2  RT @Adele: The piano mics fell on to the piano...  MirianR88152620   \n",
       "5  RT @Adele: HUGE song @tinietempah love it love...       CalvoRicky   \n",
       "\n",
       "   retweet_count  favorite_count  followers_count  friends_count  \\\n",
       "1          36982               0                2             11   \n",
       "2          37033               0                2             11   \n",
       "5           2142               0           104596             71   \n",
       "\n",
       "  hashtags_text  ...      city     state        country             county  \\\n",
       "1            []  ...    Manaus  Amazonas         Brazil             Manaus   \n",
       "2            []  ...    Manaus  Amazonas         Brazil             Manaus   \n",
       "5            []  ...     Miami   Florida  United States  Miami-Dade County   \n",
       "\n",
       "  postal_state                                         sentiments  compound  \\\n",
       "1           AM  {'neg': 0.0, 'neu': 0.894, 'pos': 0.106, 'comp...    0.2263   \n",
       "2           AM  {'neg': 0.135, 'neu': 0.865, 'pos': 0.0, 'comp...   -0.5574   \n",
       "5           FL  {'neg': 0.0, 'neu': 0.25, 'pos': 0.75, 'compou...    0.9188   \n",
       "\n",
       "     neg    neu    pos  \n",
       "1  0.000  0.894  0.106  \n",
       "2  0.135  0.865  0.000  \n",
       "5  0.000  0.250  0.750  \n",
       "\n",
       "[3 rows x 29 columns]"
      ]
     },
     "execution_count": 9,
     "metadata": {},
     "output_type": "execute_result"
    }
   ],
   "source": [
    "df_location_final.head(3)"
   ]
  },
  {
   "cell_type": "code",
   "execution_count": null,
   "metadata": {
    "collapsed": true
   },
   "outputs": [],
   "source": []
  }
 ],
 "metadata": {
  "kernelspec": {
   "display_name": "Python 3",
   "language": "python",
   "name": "python3"
  },
  "language_info": {
   "codemirror_mode": {
    "name": "ipython",
    "version": 3
   },
   "file_extension": ".py",
   "mimetype": "text/x-python",
   "name": "python",
   "nbconvert_exporter": "python",
   "pygments_lexer": "ipython3",
   "version": "3.6.0"
  }
 },
 "nbformat": 4,
 "nbformat_minor": 2
}
