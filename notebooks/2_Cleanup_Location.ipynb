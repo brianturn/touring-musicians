{
 "cells": [
  {
   "cell_type": "code",
   "execution_count": 1,
   "metadata": {
    "collapsed": true
   },
   "outputs": [],
   "source": [
    "import pandas as pd\n",
    "import pickle\n",
    "import nltk\n",
    "import re\n",
    "import string\n",
    "import numpy as np\n",
    "\n",
    "from pprint import pprint\n"
   ]
  },
  {
   "cell_type": "code",
   "execution_count": 2,
   "metadata": {
    "collapsed": true
   },
   "outputs": [],
   "source": [
    "with open('xl.pkl', 'rb') as picklefile:\n",
    "    df = pickle.load(picklefile)"
   ]
  },
  {
   "cell_type": "markdown",
   "metadata": {},
   "source": [
    "### Clean up text of tweets and identify retweets versus original "
   ]
  },
  {
   "cell_type": "markdown",
   "metadata": {},
   "source": [
    "#### keep puncuation for Vader sentiment analysis"
   ]
  },
  {
   "cell_type": "code",
   "execution_count": 3,
   "metadata": {
    "collapsed": false
   },
   "outputs": [
    {
     "data": {
      "text/html": [
       "<div>\n",
       "<style>\n",
       "    .dataframe thead tr:only-child th {\n",
       "        text-align: right;\n",
       "    }\n",
       "\n",
       "    .dataframe thead th {\n",
       "        text-align: left;\n",
       "    }\n",
       "\n",
       "    .dataframe tbody tr th {\n",
       "        vertical-align: top;\n",
       "    }\n",
       "</style>\n",
       "<table border=\"1\" class=\"dataframe\">\n",
       "  <thead>\n",
       "    <tr style=\"text-align: right;\">\n",
       "      <th></th>\n",
       "      <th>id</th>\n",
       "      <th>created_at</th>\n",
       "      <th>location</th>\n",
       "      <th>text</th>\n",
       "      <th>screen_name</th>\n",
       "      <th>retweet_count</th>\n",
       "      <th>favorite_count</th>\n",
       "      <th>followers_count</th>\n",
       "      <th>friends_count</th>\n",
       "      <th>hashtags_text</th>\n",
       "      <th>description</th>\n",
       "      <th>tweet_reply_to</th>\n",
       "      <th>search_term</th>\n",
       "      <th>artist</th>\n",
       "    </tr>\n",
       "  </thead>\n",
       "  <tbody>\n",
       "    <tr>\n",
       "      <th>0</th>\n",
       "      <td>873619804468506624</td>\n",
       "      <td>Sat Jun 10 19:16:07 +0000 2017</td>\n",
       "      <td>NaN</td>\n",
       "      <td>RT @Adele: I need to share with you all that I...</td>\n",
       "      <td>gueth_andre</td>\n",
       "      <td>56525</td>\n",
       "      <td>0</td>\n",
       "      <td>4</td>\n",
       "      <td>88</td>\n",
       "      <td>[]</td>\n",
       "      <td>NaN</td>\n",
       "      <td>NaN</td>\n",
       "      <td>@adele</td>\n",
       "      <td>Adele</td>\n",
       "    </tr>\n",
       "    <tr>\n",
       "      <th>1</th>\n",
       "      <td>873599554175860736</td>\n",
       "      <td>Sat Jun 10 17:55:39 +0000 2017</td>\n",
       "      <td>Manaus, Brasil</td>\n",
       "      <td>RT @Adele: Because of it though... I'm treatin...</td>\n",
       "      <td>MirianR88152620</td>\n",
       "      <td>36982</td>\n",
       "      <td>0</td>\n",
       "      <td>2</td>\n",
       "      <td>11</td>\n",
       "      <td>[]</td>\n",
       "      <td>lauriemirian/twitter</td>\n",
       "      <td>NaN</td>\n",
       "      <td>@adele</td>\n",
       "      <td>Adele</td>\n",
       "    </tr>\n",
       "  </tbody>\n",
       "</table>\n",
       "</div>"
      ],
      "text/plain": [
       "                   id                      created_at        location  \\\n",
       "0  873619804468506624  Sat Jun 10 19:16:07 +0000 2017             NaN   \n",
       "1  873599554175860736  Sat Jun 10 17:55:39 +0000 2017  Manaus, Brasil   \n",
       "\n",
       "                                                text      screen_name  \\\n",
       "0  RT @Adele: I need to share with you all that I...      gueth_andre   \n",
       "1  RT @Adele: Because of it though... I'm treatin...  MirianR88152620   \n",
       "\n",
       "   retweet_count  favorite_count  followers_count  friends_count  \\\n",
       "0          56525               0                4             88   \n",
       "1          36982               0                2             11   \n",
       "\n",
       "  hashtags_text           description  tweet_reply_to search_term artist  \n",
       "0            []                   NaN             NaN      @adele  Adele  \n",
       "1            []  lauriemirian/twitter             NaN      @adele  Adele  "
      ]
     },
     "execution_count": 3,
     "metadata": {},
     "output_type": "execute_result"
    }
   ],
   "source": [
    "df.head(2)"
   ]
  },
  {
   "cell_type": "code",
   "execution_count": 4,
   "metadata": {
    "collapsed": true
   },
   "outputs": [],
   "source": [
    "def remove_retweet_url(tweet):\n",
    "    \"\"\"remove RT and links in tweet\"\"\" \n",
    "    tweet.strip()\n",
    "    tweet = re.sub(r\"(https?\\://)\\S+\", \"\", tweet)\n",
    "    if tweet.startswith('RT'):\n",
    "        tweet = re.sub(r\"(RT\\s@.*:)\", \"\", tweet)\n",
    "    return tweet"
   ]
  },
  {
   "cell_type": "code",
   "execution_count": 5,
   "metadata": {
    "collapsed": true
   },
   "outputs": [],
   "source": [
    "df['clean'] = df.text.apply(lambda x : remove_retweet_url(x))"
   ]
  },
  {
   "cell_type": "code",
   "execution_count": 6,
   "metadata": {
    "collapsed": true
   },
   "outputs": [],
   "source": [
    "def countRetweet(row):\n",
    "    \"\"\" return 1 if retweet, 0 if original\"\"\"\n",
    "    words = row['text'].split(' ')\n",
    "    if words[0] == 'RT':\n",
    "        return 1\n",
    "    else:\n",
    "        return 0"
   ]
  },
  {
   "cell_type": "code",
   "execution_count": 7,
   "metadata": {
    "collapsed": true
   },
   "outputs": [],
   "source": [
    "def countOriginal(row):\n",
    "    \"\"\" return 0 if retweet, 1 if original\"\"\"\n",
    "    words = row['text'].split(' ')\n",
    "    if words[0] != 'RT':\n",
    "        return 1\n",
    "    else:\n",
    "        return 0"
   ]
  },
  {
   "cell_type": "code",
   "execution_count": 8,
   "metadata": {
    "collapsed": true
   },
   "outputs": [],
   "source": [
    "df['retweet'] = df.apply(countRetweet, axis = 1)"
   ]
  },
  {
   "cell_type": "code",
   "execution_count": 9,
   "metadata": {
    "collapsed": true
   },
   "outputs": [],
   "source": [
    "df['original_tweet'] = df.apply(countOriginal, axis = 1)"
   ]
  },
  {
   "cell_type": "code",
   "execution_count": 10,
   "metadata": {
    "collapsed": false
   },
   "outputs": [
    {
     "data": {
      "text/plain": [
       "216992"
      ]
     },
     "execution_count": 10,
     "metadata": {},
     "output_type": "execute_result"
    }
   ],
   "source": [
    "len(df)"
   ]
  },
  {
   "cell_type": "markdown",
   "metadata": {},
   "source": [
    "### Location Retrieval"
   ]
  },
  {
   "cell_type": "markdown",
   "metadata": {},
   "source": [
    "#### Stripping puncuation for location analysis. Build a dictionary of lat/long cooridinates for the top 2500 locations. The google geocode API accepts 2500 calls per day. "
   ]
  },
  {
   "cell_type": "code",
   "execution_count": 11,
   "metadata": {
    "collapsed": true
   },
   "outputs": [],
   "source": [
    "def lower_alpha_num(corpus):\n",
    "    # convert to lower case\n",
    "    corpus = map(str.lower, corpus)\n",
    "    \n",
    "    # remove alpha-numerical words\n",
    "    corpus = map(lambda x: re.sub(r\"\"\"\\w*\\d\\w*\"\"\", '', x), corpus)\n",
    "    corpus = list(corpus)\n",
    "    s = ''.join(corpus)\n",
    "    return s"
   ]
  },
  {
   "cell_type": "code",
   "execution_count": 12,
   "metadata": {
    "collapsed": true
   },
   "outputs": [],
   "source": [
    "def remove_punct(corpus):\n",
    "    # regular expression to remove punctuation\n",
    "    punc_re = re.compile('[%s]' % re.escape(string.punctuation))\n",
    "\n",
    "    corpus = map(lambda x: punc_re.sub('', x), corpus)\n",
    "    corpus = list(corpus)\n",
    "    s = ''.join(corpus)\n",
    "    return s"
   ]
  },
  {
   "cell_type": "code",
   "execution_count": 13,
   "metadata": {
    "collapsed": true
   },
   "outputs": [],
   "source": [
    "# Select the rows of df where Location is not NaN\n",
    "from copy import deepcopy\n",
    "df_location = df[df['location'].notnull()]\n",
    "df_location = deepcopy(df_location)"
   ]
  },
  {
   "cell_type": "code",
   "execution_count": 14,
   "metadata": {
    "collapsed": true
   },
   "outputs": [],
   "source": [
    "df_location['location'] = df_location.location.apply(lambda x: lower_alpha_num(x))"
   ]
  },
  {
   "cell_type": "code",
   "execution_count": 15,
   "metadata": {
    "collapsed": true
   },
   "outputs": [],
   "source": [
    "df_location['location'] = df_location.location.apply(lambda x: remove_punct(x))"
   ]
  },
  {
   "cell_type": "code",
   "execution_count": 17,
   "metadata": {
    "collapsed": false
   },
   "outputs": [
    {
     "data": {
      "text/html": [
       "<div>\n",
       "<style>\n",
       "    .dataframe thead tr:only-child th {\n",
       "        text-align: right;\n",
       "    }\n",
       "\n",
       "    .dataframe thead th {\n",
       "        text-align: left;\n",
       "    }\n",
       "\n",
       "    .dataframe tbody tr th {\n",
       "        vertical-align: top;\n",
       "    }\n",
       "</style>\n",
       "<table border=\"1\" class=\"dataframe\">\n",
       "  <thead>\n",
       "    <tr style=\"text-align: right;\">\n",
       "      <th></th>\n",
       "      <th>id</th>\n",
       "      <th>created_at</th>\n",
       "      <th>location</th>\n",
       "      <th>text</th>\n",
       "      <th>screen_name</th>\n",
       "      <th>retweet_count</th>\n",
       "      <th>favorite_count</th>\n",
       "      <th>followers_count</th>\n",
       "      <th>friends_count</th>\n",
       "      <th>hashtags_text</th>\n",
       "      <th>description</th>\n",
       "      <th>tweet_reply_to</th>\n",
       "      <th>search_term</th>\n",
       "      <th>artist</th>\n",
       "      <th>clean</th>\n",
       "      <th>retweet</th>\n",
       "      <th>original_tweet</th>\n",
       "    </tr>\n",
       "  </thead>\n",
       "  <tbody>\n",
       "    <tr>\n",
       "      <th>1</th>\n",
       "      <td>873599554175860736</td>\n",
       "      <td>Sat Jun 10 17:55:39 +0000 2017</td>\n",
       "      <td>manaus brasil</td>\n",
       "      <td>RT @Adele: Because of it though... I'm treatin...</td>\n",
       "      <td>MirianR88152620</td>\n",
       "      <td>36982</td>\n",
       "      <td>0</td>\n",
       "      <td>2</td>\n",
       "      <td>11</td>\n",
       "      <td>[]</td>\n",
       "      <td>lauriemirian/twitter</td>\n",
       "      <td>NaN</td>\n",
       "      <td>@adele</td>\n",
       "      <td>Adele</td>\n",
       "      <td>Because of it though... I'm treating myself t...</td>\n",
       "      <td>1</td>\n",
       "      <td>0</td>\n",
       "    </tr>\n",
       "    <tr>\n",
       "      <th>2</th>\n",
       "      <td>873599531861950464</td>\n",
       "      <td>Sat Jun 10 17:55:33 +0000 2017</td>\n",
       "      <td>manaus brasil</td>\n",
       "      <td>RT @Adele: The piano mics fell on to the piano...</td>\n",
       "      <td>MirianR88152620</td>\n",
       "      <td>37033</td>\n",
       "      <td>0</td>\n",
       "      <td>2</td>\n",
       "      <td>11</td>\n",
       "      <td>[]</td>\n",
       "      <td>lauriemirian/twitter</td>\n",
       "      <td>NaN</td>\n",
       "      <td>@adele</td>\n",
       "      <td>Adele</td>\n",
       "      <td>The piano mics fell on to the piano strings, ...</td>\n",
       "      <td>1</td>\n",
       "      <td>0</td>\n",
       "    </tr>\n",
       "    <tr>\n",
       "      <th>5</th>\n",
       "      <td>873330450462330880</td>\n",
       "      <td>Sat Jun 10 00:06:19 +0000 2017</td>\n",
       "      <td>miami fl</td>\n",
       "      <td>RT @Adele: HUGE song @tinietempah love it love...</td>\n",
       "      <td>CalvoRicky</td>\n",
       "      <td>2142</td>\n",
       "      <td>0</td>\n",
       "      <td>104596</td>\n",
       "      <td>71</td>\n",
       "      <td>[]</td>\n",
       "      <td>El marlin lastimosamente se ahogó , siempre la...</td>\n",
       "      <td>NaN</td>\n",
       "      <td>@adele</td>\n",
       "      <td>Adele</td>\n",
       "      <td>HUGE song @tinietempah love it love it!!</td>\n",
       "      <td>1</td>\n",
       "      <td>0</td>\n",
       "    </tr>\n",
       "    <tr>\n",
       "      <th>6</th>\n",
       "      <td>873330445030748160</td>\n",
       "      <td>Sat Jun 10 00:06:18 +0000 2017</td>\n",
       "      <td>miami fl</td>\n",
       "      <td>RT @Adele: JT!!</td>\n",
       "      <td>CalvoRicky</td>\n",
       "      <td>3358</td>\n",
       "      <td>0</td>\n",
       "      <td>104596</td>\n",
       "      <td>71</td>\n",
       "      <td>[]</td>\n",
       "      <td>El marlin lastimosamente se ahogó , siempre la...</td>\n",
       "      <td>NaN</td>\n",
       "      <td>@adele</td>\n",
       "      <td>Adele</td>\n",
       "      <td>JT!!</td>\n",
       "      <td>1</td>\n",
       "      <td>0</td>\n",
       "    </tr>\n",
       "    <tr>\n",
       "      <th>7</th>\n",
       "      <td>873330436138840064</td>\n",
       "      <td>Sat Jun 10 00:06:16 +0000 2017</td>\n",
       "      <td>miami fl</td>\n",
       "      <td>RT @Adele: This Sam Smith song is so so good h...</td>\n",
       "      <td>CalvoRicky</td>\n",
       "      <td>2773</td>\n",
       "      <td>0</td>\n",
       "      <td>104596</td>\n",
       "      <td>71</td>\n",
       "      <td>[]</td>\n",
       "      <td>El marlin lastimosamente se ahogó , siempre la...</td>\n",
       "      <td>NaN</td>\n",
       "      <td>@adele</td>\n",
       "      <td>Adele</td>\n",
       "      <td>This Sam Smith song is so so good  xx</td>\n",
       "      <td>1</td>\n",
       "      <td>0</td>\n",
       "    </tr>\n",
       "  </tbody>\n",
       "</table>\n",
       "</div>"
      ],
      "text/plain": [
       "                   id                      created_at       location  \\\n",
       "1  873599554175860736  Sat Jun 10 17:55:39 +0000 2017  manaus brasil   \n",
       "2  873599531861950464  Sat Jun 10 17:55:33 +0000 2017  manaus brasil   \n",
       "5  873330450462330880  Sat Jun 10 00:06:19 +0000 2017       miami fl   \n",
       "6  873330445030748160  Sat Jun 10 00:06:18 +0000 2017       miami fl   \n",
       "7  873330436138840064  Sat Jun 10 00:06:16 +0000 2017       miami fl   \n",
       "\n",
       "                                                text      screen_name  \\\n",
       "1  RT @Adele: Because of it though... I'm treatin...  MirianR88152620   \n",
       "2  RT @Adele: The piano mics fell on to the piano...  MirianR88152620   \n",
       "5  RT @Adele: HUGE song @tinietempah love it love...       CalvoRicky   \n",
       "6                                    RT @Adele: JT!!       CalvoRicky   \n",
       "7  RT @Adele: This Sam Smith song is so so good h...       CalvoRicky   \n",
       "\n",
       "   retweet_count  favorite_count  followers_count  friends_count  \\\n",
       "1          36982               0                2             11   \n",
       "2          37033               0                2             11   \n",
       "5           2142               0           104596             71   \n",
       "6           3358               0           104596             71   \n",
       "7           2773               0           104596             71   \n",
       "\n",
       "  hashtags_text                                        description  \\\n",
       "1            []                               lauriemirian/twitter   \n",
       "2            []                               lauriemirian/twitter   \n",
       "5            []  El marlin lastimosamente se ahogó , siempre la...   \n",
       "6            []  El marlin lastimosamente se ahogó , siempre la...   \n",
       "7            []  El marlin lastimosamente se ahogó , siempre la...   \n",
       "\n",
       "   tweet_reply_to search_term artist  \\\n",
       "1             NaN      @adele  Adele   \n",
       "2             NaN      @adele  Adele   \n",
       "5             NaN      @adele  Adele   \n",
       "6             NaN      @adele  Adele   \n",
       "7             NaN      @adele  Adele   \n",
       "\n",
       "                                               clean  retweet  original_tweet  \n",
       "1   Because of it though... I'm treating myself t...        1               0  \n",
       "2   The piano mics fell on to the piano strings, ...        1               0  \n",
       "5          HUGE song @tinietempah love it love it!!         1               0  \n",
       "6                                               JT!!        1               0  \n",
       "7              This Sam Smith song is so so good  xx        1               0  "
      ]
     },
     "execution_count": 17,
     "metadata": {},
     "output_type": "execute_result"
    }
   ],
   "source": [
    "df_location.head(5)"
   ]
  },
  {
   "cell_type": "markdown",
   "metadata": {},
   "source": [
    "#### Get a list of the top 2480 locations"
   ]
  },
  {
   "cell_type": "code",
   "execution_count": 1,
   "metadata": {
    "collapsed": false
   },
   "outputs": [],
   "source": [
    "# locations = [i for i in df_location_final.location.value_counts()[:2480].index]\n",
    "# locations"
   ]
  },
  {
   "cell_type": "markdown",
   "metadata": {},
   "source": [
    "### Call the google Geocode API"
   ]
  },
  {
   "cell_type": "code",
   "execution_count": 38,
   "metadata": {
    "collapsed": true
   },
   "outputs": [],
   "source": [
    "import urllib\n",
    "import json\n",
    "from urllib.parse import urlparse\n",
    "import urllib.parse\n",
    "import urllib.request\n",
    "import time"
   ]
  },
  {
   "cell_type": "code",
   "execution_count": 39,
   "metadata": {
    "collapsed": false
   },
   "outputs": [],
   "source": [
    "import geocoder\n",
    "import time"
   ]
  },
  {
   "cell_type": "code",
   "execution_count": 40,
   "metadata": {
    "collapsed": true
   },
   "outputs": [],
   "source": [
    "googleGeocodeUrl = 'http://maps.googleapis.com/maps/api/geocode/json?'\n",
    "\n",
    "def get_coordinates(locations, from_sensor=False):\n",
    "    ''' return a dictionary of lat, long and region'''\n",
    "    location_dict = {}\n",
    "    for query in locations:\n",
    "        query = query.encode('utf-8')\n",
    "        params = {\n",
    "            'address': query,\n",
    "            'sensor': \"true\" if from_sensor else \"false\"\n",
    "        }\n",
    "        \n",
    "        url = googleGeocodeUrl + urllib.parse.urlencode(params)\n",
    "        try:\n",
    "            json_response = urllib.request.urlopen(url)\n",
    "            response = json.loads(json_response.read())\n",
    "            if response['results']:\n",
    "                location = response['results'][0]['geometry']['location']\n",
    "                latitude, longitude = location['lat'], location['lng']\n",
    "                region = response['results'][0]['address_components'][0]['long_name']\n",
    "                location_dict[query] = latitude, longitude, region\n",
    "                time.sleep(1)\n",
    "            else:\n",
    "                try:\n",
    "                    location_dict[query] == None\n",
    "                    time.sleep(1)\n",
    "                except KeyError:\n",
    "                    pass\n",
    "        \n",
    "        except urllib.error.HTTPError as err:\n",
    "            if err == 400: \n",
    "                location_dict[query] == None\n",
    "            \n",
    "    return location_dict\n",
    "    "
   ]
  },
  {
   "cell_type": "code",
   "execution_count": 25,
   "metadata": {
    "collapsed": true
   },
   "outputs": [],
   "source": [
    "with open('dict.pkl', 'rb') as picklefile:\n",
    "    d = pickle.load(picklefile)"
   ]
  },
  {
   "cell_type": "code",
   "execution_count": 26,
   "metadata": {
    "collapsed": true
   },
   "outputs": [],
   "source": [
    "def convert(data):\n",
    "    if isinstance(data, bytes):  return data.decode('utf-8')\n",
    "    if isinstance(data, dict):   return dict(map(convert, data.items()))\n",
    "    if isinstance(data, tuple):  return tuple(map(convert, data))\n",
    "    return data"
   ]
  },
  {
   "cell_type": "code",
   "execution_count": 27,
   "metadata": {
    "collapsed": true
   },
   "outputs": [],
   "source": [
    "d = convert(d)"
   ]
  },
  {
   "cell_type": "markdown",
   "metadata": {},
   "source": [
    "#### After pulling the lat/long from the Google Maps API, I used Python geocoder wrapper to build a dictionary mapping lat/long to city, state, country, county"
   ]
  },
  {
   "cell_type": "code",
   "execution_count": 28,
   "metadata": {
    "collapsed": true
   },
   "outputs": [],
   "source": [
    "def reverse_geo(d):\n",
    "    '''provided lat/long, returns a dictionary of city, state, country, county and postal formatted state'''\n",
    "    reverse_dict = {}\n",
    "    for k, v in list(d.items()):\n",
    "        g = geocoder.google([d[k][0], d[k][1]], method='reverse')\n",
    "        reverse_dict[k] = g.lat, g.lng, g.city, g.state_long, g.country_long, g.county, g.state\n",
    "        time.sleep(1)\n",
    "    return reverse_dict"
   ]
  },
  {
   "cell_type": "code",
   "execution_count": 29,
   "metadata": {
    "collapsed": false
   },
   "outputs": [],
   "source": [
    "# reverse_dict = reverse_geo(d)"
   ]
  },
  {
   "cell_type": "code",
   "execution_count": 19,
   "metadata": {
    "collapsed": true
   },
   "outputs": [],
   "source": [
    "with open('reverse_dict.pkl', 'rb') as picklefile:\n",
    "    reverse_dict = pickle.load(picklefile)"
   ]
  },
  {
   "cell_type": "code",
   "execution_count": 23,
   "metadata": {
    "collapsed": false
   },
   "outputs": [
    {
     "data": {
      "text/plain": [
       "[('london',\n",
       "  (51.5072996,\n",
       "   -0.1280232,\n",
       "   'London',\n",
       "   'England',\n",
       "   'United Kingdom',\n",
       "   'Greater London',\n",
       "   'England')),\n",
       " ('united states',\n",
       "  (37.0891604,\n",
       "   -95.7131979,\n",
       "   'Independence',\n",
       "   'Kansas',\n",
       "   'United States',\n",
       "   'Montgomery County',\n",
       "   'KS')),\n",
       " ('london england',\n",
       "  (51.5072996,\n",
       "   -0.1280232,\n",
       "   'London',\n",
       "   'England',\n",
       "   'United Kingdom',\n",
       "   'Greater London',\n",
       "   'England')),\n",
       " ('el qaliobia egypt',\n",
       "  (30.3274395,\n",
       "   31.2159308,\n",
       "   None,\n",
       "   'Al Qalyubia Governorate',\n",
       "   'Egypt',\n",
       "   'Toukh',\n",
       "   'Al Qalyubia Governorate'))]"
      ]
     },
     "execution_count": 23,
     "metadata": {},
     "output_type": "execute_result"
    }
   ],
   "source": [
    "list(reverse_dict.items())[0:4]"
   ]
  },
  {
   "cell_type": "code",
   "execution_count": 27,
   "metadata": {
    "collapsed": true
   },
   "outputs": [],
   "source": [
    "# with open('df_location_final.pkl', 'rb') as picklefile:\n",
    "#     df_location_final = pickle.load(picklefile)"
   ]
  },
  {
   "cell_type": "code",
   "execution_count": 32,
   "metadata": {
    "collapsed": true
   },
   "outputs": [],
   "source": [
    "location_keys = ['latitude','longitude','city','state', 'country', 'county', 'postal_state']\n"
   ]
  },
  {
   "cell_type": "code",
   "execution_count": 33,
   "metadata": {
    "collapsed": true
   },
   "outputs": [],
   "source": [
    "def get_location(row, reverse_dict, index):\n",
    "    try:\n",
    "        if reverse_dict[row][index] !=None:\n",
    "            loc = reverse_dict[row][index]\n",
    "        else:\n",
    "            loc = ''\n",
    "        return loc\n",
    "    except KeyError:\n",
    "        pass"
   ]
  },
  {
   "cell_type": "markdown",
   "metadata": {},
   "source": [
    "#### Add columns to dataframe with city, state, county etc..."
   ]
  },
  {
   "cell_type": "code",
   "execution_count": 34,
   "metadata": {
    "collapsed": false
   },
   "outputs": [],
   "source": [
    "for i, item in enumerate(location_keys):\n",
    "    df_location[item] = df_location.location.apply(lambda x: get_location(x, reverse_dict,i))"
   ]
  },
  {
   "cell_type": "code",
   "execution_count": 35,
   "metadata": {
    "collapsed": false
   },
   "outputs": [
    {
     "data": {
      "text/html": [
       "<div>\n",
       "<style>\n",
       "    .dataframe thead tr:only-child th {\n",
       "        text-align: right;\n",
       "    }\n",
       "\n",
       "    .dataframe thead th {\n",
       "        text-align: left;\n",
       "    }\n",
       "\n",
       "    .dataframe tbody tr th {\n",
       "        vertical-align: top;\n",
       "    }\n",
       "</style>\n",
       "<table border=\"1\" class=\"dataframe\">\n",
       "  <thead>\n",
       "    <tr style=\"text-align: right;\">\n",
       "      <th></th>\n",
       "      <th>id</th>\n",
       "      <th>created_at</th>\n",
       "      <th>location</th>\n",
       "      <th>text</th>\n",
       "      <th>screen_name</th>\n",
       "      <th>retweet_count</th>\n",
       "      <th>favorite_count</th>\n",
       "      <th>followers_count</th>\n",
       "      <th>friends_count</th>\n",
       "      <th>hashtags_text</th>\n",
       "      <th>...</th>\n",
       "      <th>clean</th>\n",
       "      <th>retweet</th>\n",
       "      <th>original_tweet</th>\n",
       "      <th>latitude</th>\n",
       "      <th>longitude</th>\n",
       "      <th>city</th>\n",
       "      <th>state</th>\n",
       "      <th>country</th>\n",
       "      <th>county</th>\n",
       "      <th>postal_state</th>\n",
       "    </tr>\n",
       "  </thead>\n",
       "  <tbody>\n",
       "    <tr>\n",
       "      <th>1</th>\n",
       "      <td>873599554175860736</td>\n",
       "      <td>Sat Jun 10 17:55:39 +0000 2017</td>\n",
       "      <td>manaus brasil</td>\n",
       "      <td>RT @Adele: Because of it though... I'm treatin...</td>\n",
       "      <td>MirianR88152620</td>\n",
       "      <td>36982</td>\n",
       "      <td>0</td>\n",
       "      <td>2</td>\n",
       "      <td>11</td>\n",
       "      <td>[]</td>\n",
       "      <td>...</td>\n",
       "      <td>Because of it though... I'm treating myself t...</td>\n",
       "      <td>1</td>\n",
       "      <td>0</td>\n",
       "      <td>-3.11903</td>\n",
       "      <td>-60.0217</td>\n",
       "      <td>Manaus</td>\n",
       "      <td>Amazonas</td>\n",
       "      <td>Brazil</td>\n",
       "      <td>Manaus</td>\n",
       "      <td>AM</td>\n",
       "    </tr>\n",
       "    <tr>\n",
       "      <th>2</th>\n",
       "      <td>873599531861950464</td>\n",
       "      <td>Sat Jun 10 17:55:33 +0000 2017</td>\n",
       "      <td>manaus brasil</td>\n",
       "      <td>RT @Adele: The piano mics fell on to the piano...</td>\n",
       "      <td>MirianR88152620</td>\n",
       "      <td>37033</td>\n",
       "      <td>0</td>\n",
       "      <td>2</td>\n",
       "      <td>11</td>\n",
       "      <td>[]</td>\n",
       "      <td>...</td>\n",
       "      <td>The piano mics fell on to the piano strings, ...</td>\n",
       "      <td>1</td>\n",
       "      <td>0</td>\n",
       "      <td>-3.11903</td>\n",
       "      <td>-60.0217</td>\n",
       "      <td>Manaus</td>\n",
       "      <td>Amazonas</td>\n",
       "      <td>Brazil</td>\n",
       "      <td>Manaus</td>\n",
       "      <td>AM</td>\n",
       "    </tr>\n",
       "    <tr>\n",
       "      <th>5</th>\n",
       "      <td>873330450462330880</td>\n",
       "      <td>Sat Jun 10 00:06:19 +0000 2017</td>\n",
       "      <td>miami fl</td>\n",
       "      <td>RT @Adele: HUGE song @tinietempah love it love...</td>\n",
       "      <td>CalvoRicky</td>\n",
       "      <td>2142</td>\n",
       "      <td>0</td>\n",
       "      <td>104596</td>\n",
       "      <td>71</td>\n",
       "      <td>[]</td>\n",
       "      <td>...</td>\n",
       "      <td>HUGE song @tinietempah love it love it!!</td>\n",
       "      <td>1</td>\n",
       "      <td>0</td>\n",
       "      <td>25.7616</td>\n",
       "      <td>-80.1919</td>\n",
       "      <td>Miami</td>\n",
       "      <td>Florida</td>\n",
       "      <td>United States</td>\n",
       "      <td>Miami-Dade County</td>\n",
       "      <td>FL</td>\n",
       "    </tr>\n",
       "    <tr>\n",
       "      <th>6</th>\n",
       "      <td>873330445030748160</td>\n",
       "      <td>Sat Jun 10 00:06:18 +0000 2017</td>\n",
       "      <td>miami fl</td>\n",
       "      <td>RT @Adele: JT!!</td>\n",
       "      <td>CalvoRicky</td>\n",
       "      <td>3358</td>\n",
       "      <td>0</td>\n",
       "      <td>104596</td>\n",
       "      <td>71</td>\n",
       "      <td>[]</td>\n",
       "      <td>...</td>\n",
       "      <td>JT!!</td>\n",
       "      <td>1</td>\n",
       "      <td>0</td>\n",
       "      <td>25.7616</td>\n",
       "      <td>-80.1919</td>\n",
       "      <td>Miami</td>\n",
       "      <td>Florida</td>\n",
       "      <td>United States</td>\n",
       "      <td>Miami-Dade County</td>\n",
       "      <td>FL</td>\n",
       "    </tr>\n",
       "    <tr>\n",
       "      <th>7</th>\n",
       "      <td>873330436138840064</td>\n",
       "      <td>Sat Jun 10 00:06:16 +0000 2017</td>\n",
       "      <td>miami fl</td>\n",
       "      <td>RT @Adele: This Sam Smith song is so so good h...</td>\n",
       "      <td>CalvoRicky</td>\n",
       "      <td>2773</td>\n",
       "      <td>0</td>\n",
       "      <td>104596</td>\n",
       "      <td>71</td>\n",
       "      <td>[]</td>\n",
       "      <td>...</td>\n",
       "      <td>This Sam Smith song is so so good  xx</td>\n",
       "      <td>1</td>\n",
       "      <td>0</td>\n",
       "      <td>25.7616</td>\n",
       "      <td>-80.1919</td>\n",
       "      <td>Miami</td>\n",
       "      <td>Florida</td>\n",
       "      <td>United States</td>\n",
       "      <td>Miami-Dade County</td>\n",
       "      <td>FL</td>\n",
       "    </tr>\n",
       "  </tbody>\n",
       "</table>\n",
       "<p>5 rows × 24 columns</p>\n",
       "</div>"
      ],
      "text/plain": [
       "                   id                      created_at       location  \\\n",
       "1  873599554175860736  Sat Jun 10 17:55:39 +0000 2017  manaus brasil   \n",
       "2  873599531861950464  Sat Jun 10 17:55:33 +0000 2017  manaus brasil   \n",
       "5  873330450462330880  Sat Jun 10 00:06:19 +0000 2017       miami fl   \n",
       "6  873330445030748160  Sat Jun 10 00:06:18 +0000 2017       miami fl   \n",
       "7  873330436138840064  Sat Jun 10 00:06:16 +0000 2017       miami fl   \n",
       "\n",
       "                                                text      screen_name  \\\n",
       "1  RT @Adele: Because of it though... I'm treatin...  MirianR88152620   \n",
       "2  RT @Adele: The piano mics fell on to the piano...  MirianR88152620   \n",
       "5  RT @Adele: HUGE song @tinietempah love it love...       CalvoRicky   \n",
       "6                                    RT @Adele: JT!!       CalvoRicky   \n",
       "7  RT @Adele: This Sam Smith song is so so good h...       CalvoRicky   \n",
       "\n",
       "   retweet_count  favorite_count  followers_count  friends_count  \\\n",
       "1          36982               0                2             11   \n",
       "2          37033               0                2             11   \n",
       "5           2142               0           104596             71   \n",
       "6           3358               0           104596             71   \n",
       "7           2773               0           104596             71   \n",
       "\n",
       "  hashtags_text     ...       \\\n",
       "1            []     ...        \n",
       "2            []     ...        \n",
       "5            []     ...        \n",
       "6            []     ...        \n",
       "7            []     ...        \n",
       "\n",
       "                                               clean  retweet original_tweet  \\\n",
       "1   Because of it though... I'm treating myself t...        1              0   \n",
       "2   The piano mics fell on to the piano strings, ...        1              0   \n",
       "5          HUGE song @tinietempah love it love it!!         1              0   \n",
       "6                                               JT!!        1              0   \n",
       "7              This Sam Smith song is so so good  xx        1              0   \n",
       "\n",
       "  latitude longitude    city     state        country             county  \\\n",
       "1 -3.11903  -60.0217  Manaus  Amazonas         Brazil             Manaus   \n",
       "2 -3.11903  -60.0217  Manaus  Amazonas         Brazil             Manaus   \n",
       "5  25.7616  -80.1919   Miami   Florida  United States  Miami-Dade County   \n",
       "6  25.7616  -80.1919   Miami   Florida  United States  Miami-Dade County   \n",
       "7  25.7616  -80.1919   Miami   Florida  United States  Miami-Dade County   \n",
       "\n",
       "  postal_state  \n",
       "1           AM  \n",
       "2           AM  \n",
       "5           FL  \n",
       "6           FL  \n",
       "7           FL  \n",
       "\n",
       "[5 rows x 24 columns]"
      ]
     },
     "execution_count": 35,
     "metadata": {},
     "output_type": "execute_result"
    }
   ],
   "source": [
    "df_location.head(5) "
   ]
  },
  {
   "cell_type": "code",
   "execution_count": 36,
   "metadata": {
    "collapsed": true
   },
   "outputs": [],
   "source": [
    "# with open('location_df.pkl', 'wb') as picklefile:\n",
    "#     pickle.dump(df_location, picklefile)"
   ]
  },
  {
   "cell_type": "code",
   "execution_count": 2,
   "metadata": {
    "collapsed": false
   },
   "outputs": [],
   "source": [
    "# with open('df_location_final.pkl', 'rb') as picklefile:\n",
    "#     df_location_final = pickle.load(picklefile)"
   ]
  },
  {
   "cell_type": "code",
   "execution_count": 37,
   "metadata": {
    "collapsed": false
   },
   "outputs": [
    {
     "data": {
      "text/html": [
       "<div>\n",
       "<style>\n",
       "    .dataframe thead tr:only-child th {\n",
       "        text-align: right;\n",
       "    }\n",
       "\n",
       "    .dataframe thead th {\n",
       "        text-align: left;\n",
       "    }\n",
       "\n",
       "    .dataframe tbody tr th {\n",
       "        vertical-align: top;\n",
       "    }\n",
       "</style>\n",
       "<table border=\"1\" class=\"dataframe\">\n",
       "  <thead>\n",
       "    <tr style=\"text-align: right;\">\n",
       "      <th></th>\n",
       "      <th>id</th>\n",
       "      <th>created_at</th>\n",
       "      <th>location</th>\n",
       "      <th>text</th>\n",
       "      <th>screen_name</th>\n",
       "      <th>retweet_count</th>\n",
       "      <th>favorite_count</th>\n",
       "      <th>followers_count</th>\n",
       "      <th>friends_count</th>\n",
       "      <th>hashtags_text</th>\n",
       "      <th>...</th>\n",
       "      <th>clean</th>\n",
       "      <th>retweet</th>\n",
       "      <th>original_tweet</th>\n",
       "      <th>latitude</th>\n",
       "      <th>longitude</th>\n",
       "      <th>city</th>\n",
       "      <th>state</th>\n",
       "      <th>country</th>\n",
       "      <th>county</th>\n",
       "      <th>postal_state</th>\n",
       "    </tr>\n",
       "  </thead>\n",
       "  <tbody>\n",
       "    <tr>\n",
       "      <th>1</th>\n",
       "      <td>873599554175860736</td>\n",
       "      <td>Sat Jun 10 17:55:39 +0000 2017</td>\n",
       "      <td>manaus brasil</td>\n",
       "      <td>RT @Adele: Because of it though... I'm treatin...</td>\n",
       "      <td>MirianR88152620</td>\n",
       "      <td>36982</td>\n",
       "      <td>0</td>\n",
       "      <td>2</td>\n",
       "      <td>11</td>\n",
       "      <td>[]</td>\n",
       "      <td>...</td>\n",
       "      <td>Because of it though... I'm treating myself t...</td>\n",
       "      <td>1</td>\n",
       "      <td>0</td>\n",
       "      <td>-3.11903</td>\n",
       "      <td>-60.0217</td>\n",
       "      <td>Manaus</td>\n",
       "      <td>Amazonas</td>\n",
       "      <td>Brazil</td>\n",
       "      <td>Manaus</td>\n",
       "      <td>AM</td>\n",
       "    </tr>\n",
       "    <tr>\n",
       "      <th>2</th>\n",
       "      <td>873599531861950464</td>\n",
       "      <td>Sat Jun 10 17:55:33 +0000 2017</td>\n",
       "      <td>manaus brasil</td>\n",
       "      <td>RT @Adele: The piano mics fell on to the piano...</td>\n",
       "      <td>MirianR88152620</td>\n",
       "      <td>37033</td>\n",
       "      <td>0</td>\n",
       "      <td>2</td>\n",
       "      <td>11</td>\n",
       "      <td>[]</td>\n",
       "      <td>...</td>\n",
       "      <td>The piano mics fell on to the piano strings, ...</td>\n",
       "      <td>1</td>\n",
       "      <td>0</td>\n",
       "      <td>-3.11903</td>\n",
       "      <td>-60.0217</td>\n",
       "      <td>Manaus</td>\n",
       "      <td>Amazonas</td>\n",
       "      <td>Brazil</td>\n",
       "      <td>Manaus</td>\n",
       "      <td>AM</td>\n",
       "    </tr>\n",
       "    <tr>\n",
       "      <th>5</th>\n",
       "      <td>873330450462330880</td>\n",
       "      <td>Sat Jun 10 00:06:19 +0000 2017</td>\n",
       "      <td>miami fl</td>\n",
       "      <td>RT @Adele: HUGE song @tinietempah love it love...</td>\n",
       "      <td>CalvoRicky</td>\n",
       "      <td>2142</td>\n",
       "      <td>0</td>\n",
       "      <td>104596</td>\n",
       "      <td>71</td>\n",
       "      <td>[]</td>\n",
       "      <td>...</td>\n",
       "      <td>HUGE song @tinietempah love it love it!!</td>\n",
       "      <td>1</td>\n",
       "      <td>0</td>\n",
       "      <td>25.7616</td>\n",
       "      <td>-80.1919</td>\n",
       "      <td>Miami</td>\n",
       "      <td>Florida</td>\n",
       "      <td>United States</td>\n",
       "      <td>Miami-Dade County</td>\n",
       "      <td>FL</td>\n",
       "    </tr>\n",
       "    <tr>\n",
       "      <th>6</th>\n",
       "      <td>873330445030748160</td>\n",
       "      <td>Sat Jun 10 00:06:18 +0000 2017</td>\n",
       "      <td>miami fl</td>\n",
       "      <td>RT @Adele: JT!!</td>\n",
       "      <td>CalvoRicky</td>\n",
       "      <td>3358</td>\n",
       "      <td>0</td>\n",
       "      <td>104596</td>\n",
       "      <td>71</td>\n",
       "      <td>[]</td>\n",
       "      <td>...</td>\n",
       "      <td>JT!!</td>\n",
       "      <td>1</td>\n",
       "      <td>0</td>\n",
       "      <td>25.7616</td>\n",
       "      <td>-80.1919</td>\n",
       "      <td>Miami</td>\n",
       "      <td>Florida</td>\n",
       "      <td>United States</td>\n",
       "      <td>Miami-Dade County</td>\n",
       "      <td>FL</td>\n",
       "    </tr>\n",
       "    <tr>\n",
       "      <th>7</th>\n",
       "      <td>873330436138840064</td>\n",
       "      <td>Sat Jun 10 00:06:16 +0000 2017</td>\n",
       "      <td>miami fl</td>\n",
       "      <td>RT @Adele: This Sam Smith song is so so good h...</td>\n",
       "      <td>CalvoRicky</td>\n",
       "      <td>2773</td>\n",
       "      <td>0</td>\n",
       "      <td>104596</td>\n",
       "      <td>71</td>\n",
       "      <td>[]</td>\n",
       "      <td>...</td>\n",
       "      <td>This Sam Smith song is so so good  xx</td>\n",
       "      <td>1</td>\n",
       "      <td>0</td>\n",
       "      <td>25.7616</td>\n",
       "      <td>-80.1919</td>\n",
       "      <td>Miami</td>\n",
       "      <td>Florida</td>\n",
       "      <td>United States</td>\n",
       "      <td>Miami-Dade County</td>\n",
       "      <td>FL</td>\n",
       "    </tr>\n",
       "  </tbody>\n",
       "</table>\n",
       "<p>5 rows × 24 columns</p>\n",
       "</div>"
      ],
      "text/plain": [
       "                   id                      created_at       location  \\\n",
       "1  873599554175860736  Sat Jun 10 17:55:39 +0000 2017  manaus brasil   \n",
       "2  873599531861950464  Sat Jun 10 17:55:33 +0000 2017  manaus brasil   \n",
       "5  873330450462330880  Sat Jun 10 00:06:19 +0000 2017       miami fl   \n",
       "6  873330445030748160  Sat Jun 10 00:06:18 +0000 2017       miami fl   \n",
       "7  873330436138840064  Sat Jun 10 00:06:16 +0000 2017       miami fl   \n",
       "\n",
       "                                                text      screen_name  \\\n",
       "1  RT @Adele: Because of it though... I'm treatin...  MirianR88152620   \n",
       "2  RT @Adele: The piano mics fell on to the piano...  MirianR88152620   \n",
       "5  RT @Adele: HUGE song @tinietempah love it love...       CalvoRicky   \n",
       "6                                    RT @Adele: JT!!       CalvoRicky   \n",
       "7  RT @Adele: This Sam Smith song is so so good h...       CalvoRicky   \n",
       "\n",
       "   retweet_count  favorite_count  followers_count  friends_count  \\\n",
       "1          36982               0                2             11   \n",
       "2          37033               0                2             11   \n",
       "5           2142               0           104596             71   \n",
       "6           3358               0           104596             71   \n",
       "7           2773               0           104596             71   \n",
       "\n",
       "  hashtags_text     ...       \\\n",
       "1            []     ...        \n",
       "2            []     ...        \n",
       "5            []     ...        \n",
       "6            []     ...        \n",
       "7            []     ...        \n",
       "\n",
       "                                               clean  retweet original_tweet  \\\n",
       "1   Because of it though... I'm treating myself t...        1              0   \n",
       "2   The piano mics fell on to the piano strings, ...        1              0   \n",
       "5          HUGE song @tinietempah love it love it!!         1              0   \n",
       "6                                               JT!!        1              0   \n",
       "7              This Sam Smith song is so so good  xx        1              0   \n",
       "\n",
       "  latitude longitude    city     state        country             county  \\\n",
       "1 -3.11903  -60.0217  Manaus  Amazonas         Brazil             Manaus   \n",
       "2 -3.11903  -60.0217  Manaus  Amazonas         Brazil             Manaus   \n",
       "5  25.7616  -80.1919   Miami   Florida  United States  Miami-Dade County   \n",
       "6  25.7616  -80.1919   Miami   Florida  United States  Miami-Dade County   \n",
       "7  25.7616  -80.1919   Miami   Florida  United States  Miami-Dade County   \n",
       "\n",
       "  postal_state  \n",
       "1           AM  \n",
       "2           AM  \n",
       "5           FL  \n",
       "6           FL  \n",
       "7           FL  \n",
       "\n",
       "[5 rows x 24 columns]"
      ]
     },
     "execution_count": 37,
     "metadata": {},
     "output_type": "execute_result"
    }
   ],
   "source": [
    "df_location.head(5)"
   ]
  },
  {
   "cell_type": "markdown",
   "metadata": {},
   "source": [
    "### Group data by artist, location and tweets"
   ]
  },
  {
   "cell_type": "code",
   "execution_count": 38,
   "metadata": {
    "collapsed": true
   },
   "outputs": [],
   "source": [
    "grouped = df_location.groupby(['artist', 'latitude', 'longitude','city', 'state', 'country']).count()\n"
   ]
  },
  {
   "cell_type": "code",
   "execution_count": 39,
   "metadata": {
    "collapsed": true
   },
   "outputs": [],
   "source": [
    "grouped = grouped.reset_index()[['artist', 'latitude', 'longitude', 'city', 'state', 'country', 'id']].sort_values(by='id', ascending=False)"
   ]
  },
  {
   "cell_type": "code",
   "execution_count": 40,
   "metadata": {
    "collapsed": true
   },
   "outputs": [],
   "source": [
    "grouped = grouped.rename(columns = {'id':'tweets'}).reset_index(drop=True)"
   ]
  },
  {
   "cell_type": "code",
   "execution_count": 42,
   "metadata": {
    "collapsed": false
   },
   "outputs": [
    {
     "data": {
      "text/html": [
       "<div>\n",
       "<style>\n",
       "    .dataframe thead tr:only-child th {\n",
       "        text-align: right;\n",
       "    }\n",
       "\n",
       "    .dataframe thead th {\n",
       "        text-align: left;\n",
       "    }\n",
       "\n",
       "    .dataframe tbody tr th {\n",
       "        vertical-align: top;\n",
       "    }\n",
       "</style>\n",
       "<table border=\"1\" class=\"dataframe\">\n",
       "  <thead>\n",
       "    <tr style=\"text-align: right;\">\n",
       "      <th></th>\n",
       "      <th>artist</th>\n",
       "      <th>latitude</th>\n",
       "      <th>longitude</th>\n",
       "      <th>city</th>\n",
       "      <th>state</th>\n",
       "      <th>country</th>\n",
       "      <th>tweets</th>\n",
       "    </tr>\n",
       "  </thead>\n",
       "  <tbody>\n",
       "    <tr>\n",
       "      <th>0</th>\n",
       "      <td>Adele</td>\n",
       "      <td>51.5073</td>\n",
       "      <td>-0.128023</td>\n",
       "      <td>London</td>\n",
       "      <td>England</td>\n",
       "      <td>United Kingdom</td>\n",
       "      <td>1898</td>\n",
       "    </tr>\n",
       "    <tr>\n",
       "      <th>1</th>\n",
       "      <td>Adele</td>\n",
       "      <td>37.0892</td>\n",
       "      <td>-95.7132</td>\n",
       "      <td>Independence</td>\n",
       "      <td>Kansas</td>\n",
       "      <td>United States</td>\n",
       "      <td>1122</td>\n",
       "    </tr>\n",
       "    <tr>\n",
       "      <th>2</th>\n",
       "      <td>Adele</td>\n",
       "      <td>30.3274</td>\n",
       "      <td>31.2159</td>\n",
       "      <td></td>\n",
       "      <td>Al Qalyubia Governorate</td>\n",
       "      <td>Egypt</td>\n",
       "      <td>1028</td>\n",
       "    </tr>\n",
       "    <tr>\n",
       "      <th>3</th>\n",
       "      <td>Adele</td>\n",
       "      <td>55.378</td>\n",
       "      <td>-3.43594</td>\n",
       "      <td>Moffat</td>\n",
       "      <td>Scotland</td>\n",
       "      <td>United Kingdom</td>\n",
       "      <td>844</td>\n",
       "    </tr>\n",
       "    <tr>\n",
       "      <th>4</th>\n",
       "      <td>Adele</td>\n",
       "      <td>-14.1764</td>\n",
       "      <td>-52.0122</td>\n",
       "      <td></td>\n",
       "      <td>Mato Grosso</td>\n",
       "      <td>Brazil</td>\n",
       "      <td>842</td>\n",
       "    </tr>\n",
       "    <tr>\n",
       "      <th>5</th>\n",
       "      <td>Radiohead</td>\n",
       "      <td>51.5073</td>\n",
       "      <td>-0.128023</td>\n",
       "      <td>London</td>\n",
       "      <td>England</td>\n",
       "      <td>United Kingdom</td>\n",
       "      <td>814</td>\n",
       "    </tr>\n",
       "    <tr>\n",
       "      <th>6</th>\n",
       "      <td>Adele</td>\n",
       "      <td>36.1699</td>\n",
       "      <td>-115.139</td>\n",
       "      <td>Las Vegas</td>\n",
       "      <td>Nevada</td>\n",
       "      <td>United States</td>\n",
       "      <td>800</td>\n",
       "    </tr>\n",
       "    <tr>\n",
       "      <th>7</th>\n",
       "      <td>Radiohead</td>\n",
       "      <td>23.6496</td>\n",
       "      <td>-102.56</td>\n",
       "      <td></td>\n",
       "      <td>Zacatecas</td>\n",
       "      <td>Mexico</td>\n",
       "      <td>748</td>\n",
       "    </tr>\n",
       "    <tr>\n",
       "      <th>8</th>\n",
       "      <td>Adele</td>\n",
       "      <td>52.3555</td>\n",
       "      <td>-1.17147</td>\n",
       "      <td>Kilsby</td>\n",
       "      <td>England</td>\n",
       "      <td>United Kingdom</td>\n",
       "      <td>738</td>\n",
       "    </tr>\n",
       "    <tr>\n",
       "      <th>9</th>\n",
       "      <td>Radiohead</td>\n",
       "      <td>19.4327</td>\n",
       "      <td>-99.1324</td>\n",
       "      <td>México D.F.</td>\n",
       "      <td>Ciudad de México</td>\n",
       "      <td>Mexico</td>\n",
       "      <td>715</td>\n",
       "    </tr>\n",
       "  </tbody>\n",
       "</table>\n",
       "</div>"
      ],
      "text/plain": [
       "      artist latitude longitude          city                    state  \\\n",
       "0      Adele  51.5073 -0.128023        London                  England   \n",
       "1      Adele  37.0892  -95.7132  Independence                   Kansas   \n",
       "2      Adele  30.3274   31.2159                Al Qalyubia Governorate   \n",
       "3      Adele   55.378  -3.43594        Moffat                 Scotland   \n",
       "4      Adele -14.1764  -52.0122                            Mato Grosso   \n",
       "5  Radiohead  51.5073 -0.128023        London                  England   \n",
       "6      Adele  36.1699  -115.139     Las Vegas                   Nevada   \n",
       "7  Radiohead  23.6496   -102.56                              Zacatecas   \n",
       "8      Adele  52.3555  -1.17147        Kilsby                  England   \n",
       "9  Radiohead  19.4327  -99.1324   México D.F.         Ciudad de México   \n",
       "\n",
       "          country  tweets  \n",
       "0  United Kingdom    1898  \n",
       "1   United States    1122  \n",
       "2           Egypt    1028  \n",
       "3  United Kingdom     844  \n",
       "4          Brazil     842  \n",
       "5  United Kingdom     814  \n",
       "6   United States     800  \n",
       "7          Mexico     748  \n",
       "8  United Kingdom     738  \n",
       "9          Mexico     715  "
      ]
     },
     "execution_count": 42,
     "metadata": {},
     "output_type": "execute_result"
    }
   ],
   "source": [
    "grouped.head(10)"
   ]
  },
  {
   "cell_type": "markdown",
   "metadata": {},
   "source": [
    "#### During checks on data, I discovered that Independence Kansas was returned from users who only specified \"United States\". Let's remove it. "
   ]
  },
  {
   "cell_type": "code",
   "execution_count": 50,
   "metadata": {
    "collapsed": true
   },
   "outputs": [],
   "source": [
    "grouped_test = grouped[grouped['city'] != 'Independence']"
   ]
  },
  {
   "cell_type": "markdown",
   "metadata": {},
   "source": [
    "#### write to csv for plotting"
   ]
  },
  {
   "cell_type": "code",
   "execution_count": 49,
   "metadata": {
    "collapsed": true
   },
   "outputs": [],
   "source": [
    "#grouped_test.to_csv('location_world_backup.csv', index=False)"
   ]
  },
  {
   "cell_type": "code",
   "execution_count": null,
   "metadata": {
    "collapsed": true
   },
   "outputs": [],
   "source": []
  }
 ],
 "metadata": {
  "kernelspec": {
   "display_name": "Python 3",
   "language": "python",
   "name": "python3"
  },
  "language_info": {
   "codemirror_mode": {
    "name": "ipython",
    "version": 3
   },
   "file_extension": ".py",
   "mimetype": "text/x-python",
   "name": "python",
   "nbconvert_exporter": "python",
   "pygments_lexer": "ipython3",
   "version": "3.6.0"
  }
 },
 "nbformat": 4,
 "nbformat_minor": 2
}
